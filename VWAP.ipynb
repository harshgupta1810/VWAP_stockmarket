{
 "cells": [
  {
   "cell_type": "markdown",
   "metadata": {
    "collapsed": true,
    "pycharm": {
     "name": "#%% md\n"
    }
   },
   "source": [
    "Calculation of VWAP: The VWAP is calculated by multiplying the price of each trade by its corresponding volume, summing up these values over a given time period (typically a trading day), and dividing by the total volume traded during that period.\n",
    "\n",
    "Interpretation: The VWAP line on a chart represents the average price at which most of the trading activity has occurred. It provides a reference point to assess whether the current market price is above or below the average price.\n",
    "\n",
    "Mean Reversion: One way to use VWAP is as a mean reversion strategy. If the current market price is significantly above the VWAP, it may suggest that the stock is overvalued, and a trader might consider selling or shorting it. Conversely, if the price is significantly below the VWAP, it may indicate an undervalued stock, prompting a trader to consider buying or going long.\n",
    "\n",
    "Trend Confirmation: VWAP can also be used to confirm the direction of a trend. If the stock price is consistently trading above the VWAP, it could indicate a bullish trend, while prices trading consistently below the VWAP may signal a bearish trend. Traders may use this information to align their trades with the prevailing trend.\n",
    "\n",
    "Trading Execution: Traders often use VWAP as a reference point for executing large orders. They aim to buy below the VWAP or sell above it to obtain a favorable average price for their trades. By splitting large orders into smaller ones and executing them gradually throughout the day, traders can minimize market impact and reduce the risk of significantly affecting the stock's price."
   ]
  },
  {
   "cell_type": "code",
   "execution_count": 15,
   "outputs": [],
   "source": [
    "import pandas as pd\n",
    "import yfinance as yf\n",
    "from datetime import date\n",
    "import matplotlib.pyplot as plt\n",
    "import numpy as np"
   ],
   "metadata": {
    "collapsed": false,
    "pycharm": {
     "name": "#%%\n"
    }
   }
  },
  {
   "cell_type": "code",
   "execution_count": 16,
   "outputs": [
    {
     "data": {
      "text/plain": "             Open    High     Low   Close    Volume\nDate                                               \n2023-05-22  105.0  105.25  104.30  105.00  21588716\n2023-05-23  105.1  106.05  105.00  105.60  21304034\n2023-05-24  105.1  105.80  104.90  105.20  28454367\n2023-05-25  105.0  105.20  104.30  104.85  25885062\n2023-05-26  105.0  106.75  104.95  106.40  28362042",
      "text/html": "<div>\n<style scoped>\n    .dataframe tbody tr th:only-of-type {\n        vertical-align: middle;\n    }\n\n    .dataframe tbody tr th {\n        vertical-align: top;\n    }\n\n    .dataframe thead th {\n        text-align: right;\n    }\n</style>\n<table border=\"1\" class=\"dataframe\">\n  <thead>\n    <tr style=\"text-align: right;\">\n      <th></th>\n      <th>Open</th>\n      <th>High</th>\n      <th>Low</th>\n      <th>Close</th>\n      <th>Volume</th>\n    </tr>\n    <tr>\n      <th>Date</th>\n      <th></th>\n      <th></th>\n      <th></th>\n      <th></th>\n      <th></th>\n    </tr>\n  </thead>\n  <tbody>\n    <tr>\n      <th>2023-05-22</th>\n      <td>105.0</td>\n      <td>105.25</td>\n      <td>104.30</td>\n      <td>105.00</td>\n      <td>21588716</td>\n    </tr>\n    <tr>\n      <th>2023-05-23</th>\n      <td>105.1</td>\n      <td>106.05</td>\n      <td>105.00</td>\n      <td>105.60</td>\n      <td>21304034</td>\n    </tr>\n    <tr>\n      <th>2023-05-24</th>\n      <td>105.1</td>\n      <td>105.80</td>\n      <td>104.90</td>\n      <td>105.20</td>\n      <td>28454367</td>\n    </tr>\n    <tr>\n      <th>2023-05-25</th>\n      <td>105.0</td>\n      <td>105.20</td>\n      <td>104.30</td>\n      <td>104.85</td>\n      <td>25885062</td>\n    </tr>\n    <tr>\n      <th>2023-05-26</th>\n      <td>105.0</td>\n      <td>106.75</td>\n      <td>104.95</td>\n      <td>106.40</td>\n      <td>28362042</td>\n    </tr>\n  </tbody>\n</table>\n</div>"
     },
     "execution_count": 16,
     "metadata": {},
     "output_type": "execute_result"
    }
   ],
   "source": [
    "stocksymbols = 'TATASTEEL.NS'\n",
    "ticker = yf.Ticker(stocksymbols)\n",
    "end = date.today()\n",
    "start = \"2020-01-01\"\n",
    "df = ticker.history(interval=\"1d\",start=start,end=end)\n",
    "df.index = df.index.strftime('%d-%m-%y')\n",
    "df.index = pd.to_datetime(df.index, format='%d-%m-%y')\n",
    "df = df.loc[:,['Open','High','Low','Close','Volume']]\n",
    "df = df.round(2)\n",
    "df.tail()"
   ],
   "metadata": {
    "collapsed": false,
    "pycharm": {
     "name": "#%%\n"
    }
   }
  },
  {
   "cell_type": "code",
   "execution_count": 17,
   "outputs": [
    {
     "name": "stdout",
     "output_type": "stream",
     "text": [
      "              Open    High     Low   Close     Volume  Typical_Price  \\\n",
      "Date                                                                   \n",
      "2020-01-01   20.05   20.19   19.70   19.82  121005300      19.903333   \n",
      "2020-01-02   20.00   20.67   20.00   20.55  216749610      20.406667   \n",
      "2020-01-03   20.47   20.61   20.32   20.50  129568630      20.476667   \n",
      "2020-01-06   20.34   20.34   19.94   20.06   96016080      20.113333   \n",
      "2020-01-07   20.15   20.54   20.07   20.18  131957880      20.263333   \n",
      "...            ...     ...     ...     ...        ...            ...   \n",
      "2023-05-22  105.00  105.25  104.30  105.00   21588716     104.850000   \n",
      "2023-05-23  105.10  106.05  105.00  105.60   21304034     105.550000   \n",
      "2023-05-24  105.10  105.80  104.90  105.20   28454367     105.300000   \n",
      "2023-05-25  105.00  105.20  104.30  104.85   25885062     104.783333   \n",
      "2023-05-26  105.00  106.75  104.95  106.40   28362042     106.033333   \n",
      "\n",
      "            Volume_Typical_Price  Cumulative_Volume_Typical_Price       VWAP  \n",
      "Date                                                                          \n",
      "2020-01-01          2.408409e+09                     2.408409e+09  19.903333  \n",
      "2020-01-02          4.423137e+09                     6.831546e+09  20.226341  \n",
      "2020-01-03          2.653134e+09                     9.484680e+09  20.295745  \n",
      "2020-01-06          1.931203e+09                     1.141588e+10  20.264655  \n",
      "2020-01-07          2.673907e+09                     1.408979e+10  20.264404  \n",
      "...                          ...                              ...        ...  \n",
      "2023-05-22          2.263577e+09                     4.253719e+12  41.992986  \n",
      "2023-05-23          2.248641e+09                     4.255968e+12  42.006350  \n",
      "2023-05-24          2.996245e+09                     4.258964e+12  42.024121  \n",
      "2023-05-25          2.712323e+09                     4.261676e+12  42.040146  \n",
      "2023-05-26          3.007322e+09                     4.264684e+12  42.058045  \n",
      "\n",
      "[845 rows x 9 columns]\n",
      "Index(['Open', 'High', 'Low', 'Close', 'Volume', 'Typical_Price',\n",
      "       'Volume_Typical_Price', 'Cumulative_Volume_Typical_Price', 'VWAP'],\n",
      "      dtype='object')\n"
     ]
    }
   ],
   "source": [
    "'''\n",
    "Formula of VWAP\n",
    "The formula for calculating VWAP is the cumulative typical price multiplied by total volume and divided by the cumulative volume. It goes as follows:\n",
    "\n",
    "VWAP = [Cumulative (Price * Volume)]/[Cumulative Volume]\n",
    "'''\n",
    "def calculate_vwap(df):\n",
    "    cumulative_volume = []\n",
    "    previous_cumulative_volume = 0\n",
    "\n",
    "    # Calculate the Typical Price =  (High + Low + Close)/3\n",
    "    df['Typical_Price'] = (df['Close'] + df['High'] + df['Low']) / 3\n",
    "\n",
    "    # Calculate the Volume_Typical_Price  = (Typical Price * Volume)\n",
    "    df['Volume_Typical_Price'] = df['Typical_Price'] * df['Volume']\n",
    "\n",
    "    # Calculate the cumulative sum of volume_Typical_Price\n",
    "    df['Cumulative_Volume_Typical_Price'] = df['Volume_Typical_Price'].cumsum()\n",
    "\n",
    "    # Calculate the cumulative sum of volume\n",
    "    cumulative_volume = df['Volume'].cumsum()\n",
    "\n",
    "    # VWAP = Cumulative (Volume * Typical Price) / Cumulative Volume\n",
    "    df['VWAP'] = df['Cumulative_Volume_Typical_Price'] / cumulative_volume\n",
    "\n",
    "    return df\n",
    "\n",
    "df1 = calculate_vwap(df)\n",
    "print(df1)\n",
    "print(df1.columns)"
   ],
   "metadata": {
    "collapsed": false,
    "pycharm": {
     "name": "#%%\n"
    }
   }
  },
  {
   "cell_type": "code",
   "execution_count": 18,
   "outputs": [
    {
     "data": {
      "text/plain": "<Figure size 640x480 with 1 Axes>",
      "image/png": "[encoded data removed]"
     },
     "metadata": {},
     "output_type": "display_data"
    }
   ],
   "source": [
    "def plot_vwap(df):\n",
    "    # Plot stock price and VWAP\n",
    "    plt.plot(df.index, df['Close'], label='Stock Price')\n",
    "    plt.plot(df.index, df['VWAP'], label='VWAP')\n",
    "    plt.title('Stock Price and Volume-Weighted Average Price (VWAP)')\n",
    "    plt.xlabel('Time')\n",
    "    plt.ylabel('Price')\n",
    "    plt.legend()\n",
    "    plt.grid(True)\n",
    "    plt.show()\n",
    "\n",
    "plot_vwap(df1)"
   ],
   "metadata": {
    "collapsed": false,
    "pycharm": {
     "name": "#%%\n"
    }
   }
  },
  {
   "cell_type": "code",
   "execution_count": 19,
   "outputs": [
    {
     "name": "stdout",
     "output_type": "stream",
     "text": [
      "              Open    High     Low   Close     Volume  Typical_Price  \\\n",
      "Date                                                                   \n",
      "2020-01-01   20.05   20.19   19.70   19.82  121005300      19.903333   \n",
      "2020-01-02   20.00   20.67   20.00   20.55  216749610      20.406667   \n",
      "2020-01-03   20.47   20.61   20.32   20.50  129568630      20.476667   \n",
      "2020-01-06   20.34   20.34   19.94   20.06   96016080      20.113333   \n",
      "2020-01-07   20.15   20.54   20.07   20.18  131957880      20.263333   \n",
      "...            ...     ...     ...     ...        ...            ...   \n",
      "2023-05-22  105.00  105.25  104.30  105.00   21588716     104.850000   \n",
      "2023-05-23  105.10  106.05  105.00  105.60   21304034     105.550000   \n",
      "2023-05-24  105.10  105.80  104.90  105.20   28454367     105.300000   \n",
      "2023-05-25  105.00  105.20  104.30  104.85   25885062     104.783333   \n",
      "2023-05-26  105.00  106.75  104.95  106.40   28362042     106.033333   \n",
      "\n",
      "            Volume_Typical_Price  Cumulative_Volume_Typical_Price        VWAP  \\\n",
      "Date                                                                            \n",
      "2020-01-01          2.408409e+09                     2.408409e+09   19.903333   \n",
      "2020-01-02          4.423137e+09                     6.831546e+09   20.406667   \n",
      "2020-01-03          2.653134e+09                     9.484680e+09   20.476667   \n",
      "2020-01-06          1.931203e+09                     1.141588e+10   20.113333   \n",
      "2020-01-07          2.673907e+09                     1.408979e+10   20.263333   \n",
      "...                          ...                              ...         ...   \n",
      "2023-05-22          2.263577e+09                     4.253719e+12  104.850000   \n",
      "2023-05-23          2.248641e+09                     4.255968e+12  105.550000   \n",
      "2023-05-24          2.996245e+09                     4.258964e+12  105.300000   \n",
      "2023-05-25          2.712323e+09                     4.261676e+12  104.783333   \n",
      "2023-05-26          3.007322e+09                     4.264684e+12  106.033333   \n",
      "\n",
      "            Mean_Reversion Mean_Reversion_Status  \n",
      "Date                                              \n",
      "2020-01-01       -0.083333               Neutral  \n",
      "2020-01-02        0.143333               Neutral  \n",
      "2020-01-03        0.023333               Neutral  \n",
      "2020-01-06       -0.053333               Neutral  \n",
      "2020-01-07       -0.083333               Neutral  \n",
      "...                    ...                   ...  \n",
      "2023-05-22        0.150000               Neutral  \n",
      "2023-05-23        0.050000               Neutral  \n",
      "2023-05-24       -0.100000               Neutral  \n",
      "2023-05-25        0.066667               Neutral  \n",
      "2023-05-26        0.366667            Overvalued  \n",
      "\n",
      "[845 rows x 11 columns]\n",
      "Index(['Open', 'High', 'Low', 'Close', 'Volume', 'Typical_Price',\n",
      "       'Volume_Typical_Price', 'Cumulative_Volume_Typical_Price', 'VWAP',\n",
      "       'Mean_Reversion', 'Mean_Reversion_Status'],\n",
      "      dtype='object')\n"
     ]
    }
   ],
   "source": [
    "def calculate_mean_reversion(df):\n",
    "    # Calculate VWAP\n",
    "    df['VWAP'] = df['Volume_Typical_Price'] / df['Volume']\n",
    "\n",
    "    # Calculate mean reversion\n",
    "    df['Mean_Reversion'] = df['Close'] - df['VWAP']\n",
    "\n",
    "    # Determine overvalued, undervalued, or neutral\n",
    "    df['Mean_Reversion_Status'] = df['Mean_Reversion'].apply(lambda x: 'Overvalued' if x > 0.2 else ('Undervalued' if x < -0.2 else 'Neutral'))\n",
    "\n",
    "    return df\n",
    "df2 = calculate_mean_reversion(df1)\n",
    "print(df2)\n",
    "print(df2.columns)"
   ],
   "metadata": {
    "collapsed": false,
    "pycharm": {
     "name": "#%%\n"
    }
   }
  },
  {
   "cell_type": "code",
   "execution_count": 20,
   "outputs": [
    {
     "name": "stdout",
     "output_type": "stream",
     "text": [
      "              Open    High     Low   Close     Volume  Typical_Price  \\\n",
      "Date                                                                   \n",
      "2020-01-01   20.05   20.19   19.70   19.82  121005300      19.903333   \n",
      "2020-01-02   20.00   20.67   20.00   20.55  216749610      20.406667   \n",
      "2020-01-03   20.47   20.61   20.32   20.50  129568630      20.476667   \n",
      "2020-01-06   20.34   20.34   19.94   20.06   96016080      20.113333   \n",
      "2020-01-07   20.15   20.54   20.07   20.18  131957880      20.263333   \n",
      "...            ...     ...     ...     ...        ...            ...   \n",
      "2023-05-22  105.00  105.25  104.30  105.00   21588716     104.850000   \n",
      "2023-05-23  105.10  106.05  105.00  105.60   21304034     105.550000   \n",
      "2023-05-24  105.10  105.80  104.90  105.20   28454367     105.300000   \n",
      "2023-05-25  105.00  105.20  104.30  104.85   25885062     104.783333   \n",
      "2023-05-26  105.00  106.75  104.95  106.40   28362042     106.033333   \n",
      "\n",
      "            Volume_Typical_Price  Cumulative_Volume_Typical_Price        VWAP  \\\n",
      "Date                                                                            \n",
      "2020-01-01          2.408409e+09                     2.408409e+09   19.903333   \n",
      "2020-01-02          4.423137e+09                     6.831546e+09   20.406667   \n",
      "2020-01-03          2.653134e+09                     9.484680e+09   20.476667   \n",
      "2020-01-06          1.931203e+09                     1.141588e+10   20.113333   \n",
      "2020-01-07          2.673907e+09                     1.408979e+10   20.263333   \n",
      "...                          ...                              ...         ...   \n",
      "2023-05-22          2.263577e+09                     4.253719e+12  104.850000   \n",
      "2023-05-23          2.248641e+09                     4.255968e+12  105.550000   \n",
      "2023-05-24          2.996245e+09                     4.258964e+12  105.300000   \n",
      "2023-05-25          2.712323e+09                     4.261676e+12  104.783333   \n",
      "2023-05-26          3.007322e+09                     4.264684e+12  106.033333   \n",
      "\n",
      "            Mean_Reversion Mean_Reversion_Status Trend_Confirmation  \n",
      "Date                                                                 \n",
      "2020-01-01       -0.083333               Neutral            Bearish  \n",
      "2020-01-02        0.143333               Neutral            Bullish  \n",
      "2020-01-03        0.023333               Neutral            Bullish  \n",
      "2020-01-06       -0.053333               Neutral            Bearish  \n",
      "2020-01-07       -0.083333               Neutral            Bearish  \n",
      "...                    ...                   ...                ...  \n",
      "2023-05-22        0.150000               Neutral            Bullish  \n",
      "2023-05-23        0.050000               Neutral            Bullish  \n",
      "2023-05-24       -0.100000               Neutral            Bearish  \n",
      "2023-05-25        0.066667               Neutral            Bullish  \n",
      "2023-05-26        0.366667            Overvalued            Bullish  \n",
      "\n",
      "[845 rows x 12 columns]\n",
      "Index(['Open', 'High', 'Low', 'Close', 'Volume', 'Typical_Price',\n",
      "       'Volume_Typical_Price', 'Cumulative_Volume_Typical_Price', 'VWAP',\n",
      "       'Mean_Reversion', 'Mean_Reversion_Status', 'Trend_Confirmation'],\n",
      "      dtype='object')\n"
     ]
    }
   ],
   "source": [
    "def calculate_trend_confirmation(df):\n",
    "    # Calculate trend confirmation\n",
    "    df['Trend_Confirmation'] = df.apply(lambda row: 'Bullish' if row['Close'] > row['VWAP'] else ('Bearish' if row['Close'] < row['VWAP'] else 'Neutral'), axis=1)\n",
    "\n",
    "    return df\n",
    "df3 = calculate_trend_confirmation(df2)\n",
    "print(df3)\n",
    "print(df3.columns)"
   ],
   "metadata": {
    "collapsed": false,
    "pycharm": {
     "name": "#%%\n"
    }
   }
  },
  {
   "cell_type": "code",
   "execution_count": 21,
   "outputs": [
    {
     "name": "stdout",
     "output_type": "stream",
     "text": [
      "              Open    High     Low   Close     Volume  Typical_Price  \\\n",
      "Date                                                                   \n",
      "2020-01-01   20.05   20.19   19.70   19.82  121005300      19.903333   \n",
      "2020-01-02   20.00   20.67   20.00   20.55  216749610      20.406667   \n",
      "2020-01-03   20.47   20.61   20.32   20.50  129568630      20.476667   \n",
      "2020-01-06   20.34   20.34   19.94   20.06   96016080      20.113333   \n",
      "2020-01-07   20.15   20.54   20.07   20.18  131957880      20.263333   \n",
      "...            ...     ...     ...     ...        ...            ...   \n",
      "2023-05-22  105.00  105.25  104.30  105.00   21588716     104.850000   \n",
      "2023-05-23  105.10  106.05  105.00  105.60   21304034     105.550000   \n",
      "2023-05-24  105.10  105.80  104.90  105.20   28454367     105.300000   \n",
      "2023-05-25  105.00  105.20  104.30  104.85   25885062     104.783333   \n",
      "2023-05-26  105.00  106.75  104.95  106.40   28362042     106.033333   \n",
      "\n",
      "            Volume_Typical_Price  Cumulative_Volume_Typical_Price        VWAP  \\\n",
      "Date                                                                            \n",
      "2020-01-01          2.408409e+09                     2.408409e+09   19.903333   \n",
      "2020-01-02          4.423137e+09                     6.831546e+09   20.406667   \n",
      "2020-01-03          2.653134e+09                     9.484680e+09   20.476667   \n",
      "2020-01-06          1.931203e+09                     1.141588e+10   20.113333   \n",
      "2020-01-07          2.673907e+09                     1.408979e+10   20.263333   \n",
      "...                          ...                              ...         ...   \n",
      "2023-05-22          2.263577e+09                     4.253719e+12  104.850000   \n",
      "2023-05-23          2.248641e+09                     4.255968e+12  105.550000   \n",
      "2023-05-24          2.996245e+09                     4.258964e+12  105.300000   \n",
      "2023-05-25          2.712323e+09                     4.261676e+12  104.783333   \n",
      "2023-05-26          3.007322e+09                     4.264684e+12  106.033333   \n",
      "\n",
      "            Mean_Reversion Mean_Reversion_Status Trend_Confirmation  \\\n",
      "Date                                                                  \n",
      "2020-01-01       -0.083333               Neutral            Bearish   \n",
      "2020-01-02        0.143333               Neutral            Bullish   \n",
      "2020-01-03        0.023333               Neutral            Bullish   \n",
      "2020-01-06       -0.053333               Neutral            Bearish   \n",
      "2020-01-07       -0.083333               Neutral            Bearish   \n",
      "...                    ...                   ...                ...   \n",
      "2023-05-22        0.150000               Neutral            Bullish   \n",
      "2023-05-23        0.050000               Neutral            Bullish   \n",
      "2023-05-24       -0.100000               Neutral            Bearish   \n",
      "2023-05-25        0.066667               Neutral            Bullish   \n",
      "2023-05-26        0.366667            Overvalued            Bullish   \n",
      "\n",
      "           Trading_Execution  \n",
      "Date                          \n",
      "2020-01-01               Buy  \n",
      "2020-01-02              Sell  \n",
      "2020-01-03              Sell  \n",
      "2020-01-06               Buy  \n",
      "2020-01-07               Buy  \n",
      "...                      ...  \n",
      "2023-05-22              Sell  \n",
      "2023-05-23              Sell  \n",
      "2023-05-24               Buy  \n",
      "2023-05-25              Sell  \n",
      "2023-05-26              Sell  \n",
      "\n",
      "[845 rows x 13 columns]\n",
      "Index(['Open', 'High', 'Low', 'Close', 'Volume', 'Typical_Price',\n",
      "       'Volume_Typical_Price', 'Cumulative_Volume_Typical_Price', 'VWAP',\n",
      "       'Mean_Reversion', 'Mean_Reversion_Status', 'Trend_Confirmation',\n",
      "       'Trading_Execution'],\n",
      "      dtype='object')\n"
     ]
    }
   ],
   "source": [
    "def calculate_trading_execution(df):\n",
    "    # Calculate trading execution\n",
    "    df['Trading_Execution'] = df.apply(lambda row: 'Buy' if row['Close'] < row['VWAP'] else ('Sell' if row['Close'] > row['VWAP'] else 'Neutral'), axis=1)\n",
    "\n",
    "    return df\n",
    "df4 = calculate_trading_execution(df3)\n",
    "print(df4)\n",
    "print(df4.columns)"
   ],
   "metadata": {
    "collapsed": false,
    "pycharm": {
     "name": "#%%\n"
    }
   }
  }
 ],
 "metadata": {
  "kernelspec": {
   "display_name": "Python 3",
   "language": "python",
   "name": "python3"
  },
  "language_info": {
   "codemirror_mode": {
    "name": "ipython",
    "version": 2
   },
   "file_extension": ".py",
   "mimetype": "text/x-python",
   "name": "python",
   "nbconvert_exporter": "python",
   "pygments_lexer": "ipython2",
   "version": "2.7.6"
  }
 },
 "nbformat": 4,
 "nbformat_minor": 0
}